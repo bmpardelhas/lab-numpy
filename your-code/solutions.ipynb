{
 "cells": [
  {
   "cell_type": "markdown",
   "metadata": {},
   "source": [
    "# Intrduction to NumPy\n",
    "\n",
    "\n",
    "#### 1. Import NumPy under the name np."
   ]
  },
  {
   "cell_type": "code",
   "execution_count": 1,
   "metadata": {},
   "outputs": [],
   "source": [
    "# your code here\n",
    "import numpy as np"
   ]
  },
  {
   "cell_type": "markdown",
   "metadata": {},
   "source": [
    "#### 2. Print your NumPy version."
   ]
  },
  {
   "cell_type": "code",
   "execution_count": 3,
   "metadata": {},
   "outputs": [
    {
     "name": "stdout",
     "output_type": "stream",
     "text": [
      "1.20.3\n"
     ]
    }
   ],
   "source": [
    "# your code here\n",
    "print(np.version.version)"
   ]
  },
  {
   "cell_type": "markdown",
   "metadata": {},
   "source": [
    "#### 3. Generate a 2x3x5 3-dimensional array with random values. Assign the array to variable *a*.\n",
    "**Challenge**: there are at least three easy ways that use numpy to generate random arrays. How many ways can you find?"
   ]
  },
  {
   "cell_type": "code",
   "execution_count": 5,
   "metadata": {},
   "outputs": [
    {
     "name": "stdout",
     "output_type": "stream",
     "text": [
      "[[[0.3063486  0.87026361 0.52654495 0.53400654 0.56919712]\n",
      "  [0.14143839 0.1621637  0.93598128 0.0164399  0.34998153]\n",
      "  [0.48420685 0.72271761 0.46376098 0.73944081 0.73776127]]\n",
      "\n",
      " [[0.82550815 0.98826098 0.82713233 0.20804607 0.52875094]\n",
      "  [0.54189305 0.4816799  0.07933634 0.34069168 0.7585647 ]\n",
      "  [0.98259937 0.75135075 0.66724922 0.76401908 0.21308721]]]\n"
     ]
    }
   ],
   "source": [
    "# Method 1\n",
    "a = np.random.random((2,3,5))\n",
    "print(a)"
   ]
  },
  {
   "cell_type": "code",
   "execution_count": 6,
   "metadata": {},
   "outputs": [
    {
     "data": {
      "text/plain": [
       "array([[[ 0.32672014,  0.6548905 , -1.64836786, -1.83265612,\n",
       "          0.65731781],\n",
       "        [ 0.69830988,  0.9772746 , -1.30712195,  1.40655404,\n",
       "          0.22595882],\n",
       "        [-1.24646874, -0.9849018 , -0.28709543,  1.8748913 ,\n",
       "          1.46255452]],\n",
       "\n",
       "       [[ 0.81717945,  0.30361505,  0.01175545, -0.16546636,\n",
       "         -0.80900691],\n",
       "        [-1.5457917 ,  0.81353337,  0.96923685, -0.1162634 ,\n",
       "         -0.59961693],\n",
       "        [-1.49161679,  0.52999131, -0.27321718,  0.05728721,\n",
       "         -0.9816236 ]]])"
      ]
     },
     "execution_count": 6,
     "metadata": {},
     "output_type": "execute_result"
    }
   ],
   "source": [
    "# Method 2\n",
    "a = np.random.randn(2,3,5)\n",
    "a"
   ]
  },
  {
   "cell_type": "code",
   "execution_count": 14,
   "metadata": {},
   "outputs": [
    {
     "data": {
      "text/plain": [
       "array([[[76, 34, 70, 55, 17],\n",
       "        [40, 82, 18, 95, 40],\n",
       "        [ 6, 39, 82,  2, 49]],\n",
       "\n",
       "       [[96, 38, 74, 29, 54],\n",
       "        [57, 80, 26, 75, 99],\n",
       "        [54, 15, 76, 40, 15]]])"
      ]
     },
     "execution_count": 14,
     "metadata": {},
     "output_type": "execute_result"
    }
   ],
   "source": [
    "my_array = np.random.randint(0,100,(2,3,5))\n",
    "my_array"
   ]
  },
  {
   "cell_type": "code",
   "execution_count": null,
   "metadata": {},
   "outputs": [],
   "source": []
  },
  {
   "cell_type": "markdown",
   "metadata": {},
   "source": [
    "#### 4. Print *a*.\n"
   ]
  },
  {
   "cell_type": "code",
   "execution_count": 16,
   "metadata": {},
   "outputs": [
    {
     "name": "stdout",
     "output_type": "stream",
     "text": [
      "[[[0.78458999 0.52829964 0.67003399 0.72338458 0.41712282]\n",
      "  [0.42717828 0.41383017 0.89133475 0.55882034 0.5792579 ]\n",
      "  [0.11404609 0.98831553 0.32930294 0.82682694 0.37604514]]\n",
      "\n",
      " [[0.03211701 0.87113643 0.1122644  0.22608293 0.57865247]\n",
      "  [0.72810245 0.1318956  0.81033579 0.4105328  0.14292814]\n",
      "  [0.21191872 0.89066428 0.82988435 0.55789243 0.60374628]]]\n"
     ]
    }
   ],
   "source": [
    "a = np.random.random((2,3,5))\n",
    "print(a)"
   ]
  },
  {
   "cell_type": "markdown",
   "metadata": {},
   "source": [
    "#### 5. Create a 5x2x3 3-dimensional array with all values equaling 1. Assign the array to variable *b*."
   ]
  },
  {
   "cell_type": "code",
   "execution_count": 17,
   "metadata": {},
   "outputs": [],
   "source": [
    "# your code here\n",
    "b = np.full((5,2,3),1)"
   ]
  },
  {
   "cell_type": "markdown",
   "metadata": {},
   "source": [
    "#### 6. Print *b*.\n"
   ]
  },
  {
   "cell_type": "code",
   "execution_count": 18,
   "metadata": {},
   "outputs": [
    {
     "name": "stdout",
     "output_type": "stream",
     "text": [
      "[[[1 1 1]\n",
      "  [1 1 1]]\n",
      "\n",
      " [[1 1 1]\n",
      "  [1 1 1]]\n",
      "\n",
      " [[1 1 1]\n",
      "  [1 1 1]]\n",
      "\n",
      " [[1 1 1]\n",
      "  [1 1 1]]\n",
      "\n",
      " [[1 1 1]\n",
      "  [1 1 1]]]\n"
     ]
    }
   ],
   "source": [
    "# your code here\n",
    "print(b)"
   ]
  },
  {
   "cell_type": "markdown",
   "metadata": {},
   "source": [
    "#### 7. Do *a* and *b* have the same size? How do you prove that in Python code?"
   ]
  },
  {
   "cell_type": "code",
   "execution_count": 19,
   "metadata": {},
   "outputs": [
    {
     "data": {
      "text/plain": [
       "False"
      ]
     },
     "execution_count": 19,
     "metadata": {},
     "output_type": "execute_result"
    }
   ],
   "source": [
    "# your code here\n",
    "np.shape(a) == np.shape(b)"
   ]
  },
  {
   "cell_type": "markdown",
   "metadata": {},
   "source": [
    "#### 8. Are you able to add *a* and *b*? Why or why not?\n"
   ]
  },
  {
   "cell_type": "code",
   "execution_count": 20,
   "metadata": {},
   "outputs": [
    {
     "ename": "ValueError",
     "evalue": "operands could not be broadcast together with shapes (2,3,5) (5,2,3) ",
     "output_type": "error",
     "traceback": [
      "\u001b[0;31m---------------------------------------------------------------------------\u001b[0m",
      "\u001b[0;31mValueError\u001b[0m                                Traceback (most recent call last)",
      "\u001b[0;32m<ipython-input-20-f54bdd812bd2>\u001b[0m in \u001b[0;36m<module>\u001b[0;34m\u001b[0m\n\u001b[1;32m      1\u001b[0m \u001b[0;31m# your answer here\u001b[0m\u001b[0;34m\u001b[0m\u001b[0;34m\u001b[0m\u001b[0;34m\u001b[0m\u001b[0m\n\u001b[0;32m----> 2\u001b[0;31m \u001b[0ma\u001b[0m\u001b[0;34m+\u001b[0m\u001b[0mb\u001b[0m\u001b[0;34m\u001b[0m\u001b[0;34m\u001b[0m\u001b[0m\n\u001b[0m",
      "\u001b[0;31mValueError\u001b[0m: operands could not be broadcast together with shapes (2,3,5) (5,2,3) "
     ]
    }
   ],
   "source": [
    "# your answer here\n",
    "a+b\n",
    "#we cannot add the arrays because they have different shapes"
   ]
  },
  {
   "cell_type": "markdown",
   "metadata": {},
   "source": [
    "#### 9. Transpose *b* so that it has the same structure of *a* (i.e. become a 2x3x5 array). Assign the transposed array to variable *c*."
   ]
  },
  {
   "cell_type": "code",
   "execution_count": 25,
   "metadata": {},
   "outputs": [
    {
     "name": "stdout",
     "output_type": "stream",
     "text": [
      "(2, 3, 5)\n",
      "[[[1 1 1 1 1]\n",
      "  [1 1 1 1 1]\n",
      "  [1 1 1 1 1]]\n",
      "\n",
      " [[1 1 1 1 1]\n",
      "  [1 1 1 1 1]\n",
      "  [1 1 1 1 1]]]\n"
     ]
    }
   ],
   "source": [
    "# your code here\n",
    "c = b.reshape(2,3,5)\n",
    "print(np.shape(c))\n",
    "print(c)"
   ]
  },
  {
   "cell_type": "markdown",
   "metadata": {},
   "source": [
    "#### 10. Try to add *a* and *c*. Now it should work. Assign the sum to variable *d*. But why does it work now?"
   ]
  },
  {
   "cell_type": "code",
   "execution_count": 29,
   "metadata": {},
   "outputs": [
    {
     "name": "stdout",
     "output_type": "stream",
     "text": [
      "[[[1.78458999 1.52829964 1.67003399 1.72338458 1.41712282]\n",
      "  [1.42717828 1.41383017 1.89133475 1.55882034 1.5792579 ]\n",
      "  [1.11404609 1.98831553 1.32930294 1.82682694 1.37604514]]\n",
      "\n",
      " [[1.03211701 1.87113643 1.1122644  1.22608293 1.57865247]\n",
      "  [1.72810245 1.1318956  1.81033579 1.4105328  1.14292814]\n",
      "  [1.21191872 1.89066428 1.82988435 1.55789243 1.60374628]]]\n"
     ]
    }
   ],
   "source": [
    "# your code/answer here\n",
    "d = a+c\n",
    "print(d)"
   ]
  },
  {
   "cell_type": "markdown",
   "metadata": {},
   "source": [
    "#### 11. Print *a* and *d*. Notice the difference and relation of the two array in terms of the values? Explain."
   ]
  },
  {
   "cell_type": "code",
   "execution_count": 32,
   "metadata": {},
   "outputs": [
    {
     "name": "stdout",
     "output_type": "stream",
     "text": [
      "[[[0.78458999 0.52829964 0.67003399 0.72338458 0.41712282]\n",
      "  [0.42717828 0.41383017 0.89133475 0.55882034 0.5792579 ]\n",
      "  [0.11404609 0.98831553 0.32930294 0.82682694 0.37604514]]\n",
      "\n",
      " [[0.03211701 0.87113643 0.1122644  0.22608293 0.57865247]\n",
      "  [0.72810245 0.1318956  0.81033579 0.4105328  0.14292814]\n",
      "  [0.21191872 0.89066428 0.82988435 0.55789243 0.60374628]]]\n",
      "[[[1.78458999 1.52829964 1.67003399 1.72338458 1.41712282]\n",
      "  [1.42717828 1.41383017 1.89133475 1.55882034 1.5792579 ]\n",
      "  [1.11404609 1.98831553 1.32930294 1.82682694 1.37604514]]\n",
      "\n",
      " [[1.03211701 1.87113643 1.1122644  1.22608293 1.57865247]\n",
      "  [1.72810245 1.1318956  1.81033579 1.4105328  1.14292814]\n",
      "  [1.21191872 1.89066428 1.82988435 1.55789243 1.60374628]]]\n"
     ]
    }
   ],
   "source": [
    "# your code/answer here\n",
    "print(a)\n",
    "\n",
    "\n",
    "print(d)\n",
    "\n",
    "#you add one to all the elements in a (because matrix c is composed of 1s)"
   ]
  },
  {
   "cell_type": "markdown",
   "metadata": {},
   "source": [
    "#### 12. Multiply *a* and *c*. Assign the result to *e*."
   ]
  },
  {
   "cell_type": "code",
   "execution_count": 33,
   "metadata": {},
   "outputs": [
    {
     "name": "stdout",
     "output_type": "stream",
     "text": [
      "[[[0.78458999 0.52829964 0.67003399 0.72338458 0.41712282]\n",
      "  [0.42717828 0.41383017 0.89133475 0.55882034 0.5792579 ]\n",
      "  [0.11404609 0.98831553 0.32930294 0.82682694 0.37604514]]\n",
      "\n",
      " [[0.03211701 0.87113643 0.1122644  0.22608293 0.57865247]\n",
      "  [0.72810245 0.1318956  0.81033579 0.4105328  0.14292814]\n",
      "  [0.21191872 0.89066428 0.82988435 0.55789243 0.60374628]]]\n"
     ]
    }
   ],
   "source": [
    "# your code here\n",
    "e = a*c\n",
    "print(e)"
   ]
  },
  {
   "cell_type": "markdown",
   "metadata": {},
   "source": [
    "#### 13. Does *e* equal to *a*? Why or why not?\n"
   ]
  },
  {
   "cell_type": "code",
   "execution_count": 34,
   "metadata": {},
   "outputs": [
    {
     "data": {
      "text/plain": [
       "array([[[ True,  True,  True,  True,  True],\n",
       "        [ True,  True,  True,  True,  True],\n",
       "        [ True,  True,  True,  True,  True]],\n",
       "\n",
       "       [[ True,  True,  True,  True,  True],\n",
       "        [ True,  True,  True,  True,  True],\n",
       "        [ True,  True,  True,  True,  True]]])"
      ]
     },
     "execution_count": 34,
     "metadata": {},
     "output_type": "execute_result"
    }
   ],
   "source": [
    "# your code/answer here\n",
    "a == e\n",
    "\n",
    "#yes because c is composed of only 1s so by multiplying by 1 you are left with a"
   ]
  },
  {
   "cell_type": "markdown",
   "metadata": {},
   "source": [
    "#### 14. Identify the max, min, and mean values in *d*. Assign those values to variables *d_max*, *d_min* and *d_mean*."
   ]
  },
  {
   "cell_type": "code",
   "execution_count": 38,
   "metadata": {},
   "outputs": [
    {
     "name": "stdout",
     "output_type": "stream",
     "text": [
      "1.9883155304880857\n",
      "1.0321170083564422\n",
      "1.5255514396492884\n"
     ]
    }
   ],
   "source": [
    "# your code here\n",
    "d_max = d.max()\n",
    "print(d_max)\n",
    "\n",
    "\n",
    "d_min = d.min()\n",
    "print(d_min)\n",
    "\n",
    "d_mean = d.mean()\n",
    "print(d_mean)"
   ]
  },
  {
   "cell_type": "markdown",
   "metadata": {},
   "source": [
    "#### 15. Now we want to label the values in *d*. First create an empty array *f* with the same shape (i.e. 2x3x5) as *d* using `np.empty`.\n"
   ]
  },
  {
   "cell_type": "code",
   "execution_count": 41,
   "metadata": {},
   "outputs": [
    {
     "data": {
      "text/plain": [
       "array([[[0.78458999, 0.52829964, 0.67003399, 0.72338458, 0.41712282],\n",
       "        [0.42717828, 0.41383017, 0.89133475, 0.55882034, 0.5792579 ],\n",
       "        [0.11404609, 0.98831553, 0.32930294, 0.82682694, 0.37604514]],\n",
       "\n",
       "       [[0.03211701, 0.87113643, 0.1122644 , 0.22608293, 0.57865247],\n",
       "        [0.72810245, 0.1318956 , 0.81033579, 0.4105328 , 0.14292814],\n",
       "        [0.21191872, 0.89066428, 0.82988435, 0.55789243, 0.60374628]]])"
      ]
     },
     "execution_count": 41,
     "metadata": {},
     "output_type": "execute_result"
    }
   ],
   "source": [
    "f = np.empty((2,3,5))\n",
    "f\n"
   ]
  },
  {
   "cell_type": "markdown",
   "metadata": {},
   "source": [
    "#### 16. Populate the values in *f*. \n",
    "\n",
    "For each value in *d*, if it's larger than *d_min* but smaller than *d_mean*, assign 25 to the corresponding value in *f*. If a value in *d* is larger than *d_mean* but smaller than *d_max*, assign 75 to the corresponding value in *f*. If a value equals to *d_mean*, assign 50 to the corresponding value in *f*. Assign 0 to the corresponding value(s) in *f* for *d_min* in *d*. Assign 100 to the corresponding value(s) in *f* for *d_max* in *d*. In the end, f should have only the following values: 0, 25, 50, 75, and 100.\n",
    "\n",
    "**Note**: you don't have to use Numpy in this question."
   ]
  },
  {
   "cell_type": "code",
   "execution_count": 44,
   "metadata": {},
   "outputs": [
    {
     "data": {
      "text/plain": [
       "array([[[ 75,  75,  75,  75,  25],\n",
       "        [ 25,  25,  75,  75,  75],\n",
       "        [ 25, 100,  25,  75,  25]],\n",
       "\n",
       "       [[  0,  75,  25,  25,  75],\n",
       "        [ 75,  25,  75,  25,  25],\n",
       "        [ 25,  75,  75,  75,  75]]])"
      ]
     },
     "execution_count": 44,
     "metadata": {},
     "output_type": "execute_result"
    }
   ],
   "source": [
    "# your code here\n",
    "f = 25 * (d > d_min) * (d < d_mean) + 75 * (d < d_max) * (d > d_mean) + 0 * (d == d_min) + 100 * (d == d_max)\n",
    "f"
   ]
  },
  {
   "cell_type": "markdown",
   "metadata": {},
   "source": [
    "#### 17. Print *d* and *f*. Do you have your expected *f*?\n",
    "For instance, if your *d* is:\n",
    "```python\n",
    "[[[1.85836099, 1.67064465, 1.62576044, 1.40243961, 1.88454931],\n",
    "[1.75354326, 1.69403643, 1.36729252, 1.61415071, 1.12104981],\n",
    "[1.72201435, 1.1862918 , 1.87078449, 1.7726778 , 1.88180042]],\n",
    "[[1.44747908, 1.31673383, 1.02000951, 1.52218947, 1.97066381],\n",
    "[1.79129243, 1.74983003, 1.96028037, 1.85166831, 1.65450881],\n",
    "[1.18068344, 1.9587381 , 1.00656599, 1.93402165, 1.73514584]]]\n",
    "```\n",
    "Your *f* should be:\n",
    "```python\n",
    "[[[ 75.,  75.,  75.,  25.,  75.],\n",
    "[ 75.,  75.,  25.,  25.,  25.],\n",
    "[ 75.,  25.,  75.,  75.,  75.]],\n",
    "[[ 25.,  25.,  25.,  25., 100.],\n",
    "[ 75.,  75.,  75.,  75.,  75.],\n",
    "[ 25.,  75.,   0.,  75.,  75.]]]\n",
    "```"
   ]
  },
  {
   "cell_type": "code",
   "execution_count": 45,
   "metadata": {},
   "outputs": [
    {
     "name": "stdout",
     "output_type": "stream",
     "text": [
      "[[[1.78458999 1.52829964 1.67003399 1.72338458 1.41712282]\n",
      "  [1.42717828 1.41383017 1.89133475 1.55882034 1.5792579 ]\n",
      "  [1.11404609 1.98831553 1.32930294 1.82682694 1.37604514]]\n",
      "\n",
      " [[1.03211701 1.87113643 1.1122644  1.22608293 1.57865247]\n",
      "  [1.72810245 1.1318956  1.81033579 1.4105328  1.14292814]\n",
      "  [1.21191872 1.89066428 1.82988435 1.55789243 1.60374628]]]\n",
      "[[[ 75  75  75  75  25]\n",
      "  [ 25  25  75  75  75]\n",
      "  [ 25 100  25  75  25]]\n",
      "\n",
      " [[  0  75  25  25  75]\n",
      "  [ 75  25  75  25  25]\n",
      "  [ 25  75  75  75  75]]]\n"
     ]
    }
   ],
   "source": [
    "# your code here\n",
    "print(d)\n",
    "print(f)\n",
    "#yes "
   ]
  },
  {
   "cell_type": "markdown",
   "metadata": {},
   "source": [
    "#### 18. Bonus question: instead of using numbers (i.e. 0, 25, 50, 75, and 100), use string values  (\"A\", \"B\", \"C\", \"D\", and \"E\") to label the array elements. For the example above, the expected result is:\n",
    "\n",
    "```python\n",
    "[[[ 'D',  'D',  'D',  'B',  'D'],\n",
    "[ 'D',  'D',  'B',  'B',  'B'],\n",
    "[ 'D',  'B',  'D',  'D',  'D']],\n",
    "[[ 'B',  'B',  'B',  'B',  'E'],\n",
    "[ 'D',  'D',  'D',  'D',  'D'],\n",
    "[ 'B',  'D',   'A',  'D', 'D']]]\n",
    "```\n",
    "**Note**: you don't have to use Numpy in this question."
   ]
  },
  {
   "cell_type": "code",
   "execution_count": 49,
   "metadata": {},
   "outputs": [
    {
     "name": "stdout",
     "output_type": "stream",
     "text": [
      "[[['D', 'D', 'D', 'D', 'B'], ['B', 'B', 'D', 'D', 'D'], ['B', 'E', 'B', 'D', 'B']], [['A', 'D', 'B', 'B', 'D'], ['D', 'B', 'D', 'B', 'B'], ['B', 'D', 'D', 'D', 'D']]]\n"
     ]
    }
   ],
   "source": [
    "# your code here\n",
    "f1 = np.empty((2,3,5))\n",
    "f1\n",
    "\n",
    "f1 = [[['B' if d_min<item<d_mean else 'D' if d_mean<item< d_max else 'A' if item == d_min else 'E' for item in in_list] for in_list in out_list] for out_list in d]\n",
    "\n",
    "print(f1)"
   ]
  }
 ],
 "metadata": {
  "kernelspec": {
   "display_name": "Python 3",
   "language": "python",
   "name": "python3"
  },
  "language_info": {
   "codemirror_mode": {
    "name": "ipython",
    "version": 3
   },
   "file_extension": ".py",
   "mimetype": "text/x-python",
   "name": "python",
   "nbconvert_exporter": "python",
   "pygments_lexer": "ipython3",
   "version": "3.9.5"
  }
 },
 "nbformat": 4,
 "nbformat_minor": 2
}
